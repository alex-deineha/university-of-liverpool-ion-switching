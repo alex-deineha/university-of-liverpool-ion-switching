{
 "cells": [
  {
   "cell_type": "code",
   "execution_count": 1,
   "metadata": {},
   "outputs": [],
   "source": [
    "!mkdir ~/.kaggle"
   ]
  },
  {
   "cell_type": "code",
   "execution_count": 2,
   "metadata": {},
   "outputs": [],
   "source": [
    "cp kaggle.json  ~/.kaggle"
   ]
  },
  {
   "cell_type": "code",
   "execution_count": 3,
   "metadata": {},
   "outputs": [],
   "source": [
    "!chmod 600 ~/.kaggle/kaggle.json"
   ]
  },
  {
   "cell_type": "code",
   "execution_count": 4,
   "metadata": {},
   "outputs": [
    {
     "name": "stdout",
     "output_type": "stream",
     "text": [
      "ERROR: unknown command \"update\"\n"
     ]
    }
   ],
   "source": [
    "!pip update "
   ]
  },
  {
   "cell_type": "code",
   "execution_count": 15,
   "metadata": {},
   "outputs": [
    {
     "name": "stdout",
     "output_type": "stream",
     "text": [
      "Processing /home/jupyter/.cache/pip/wheels/aa/e7/e7/eb3c3d514c33294d77ddd5a856bdd58dc9c1fabbed59a02a2b/kaggle-1.5.6-py3-none-any.whl\n",
      "Requirement already satisfied: requests in /opt/conda/lib/python3.7/site-packages (from kaggle) (2.23.0)\n",
      "Requirement already satisfied: tqdm in /opt/conda/lib/python3.7/site-packages (from kaggle) (4.43.0)\n",
      "Collecting urllib3<1.25,>=1.21.1\n",
      "  Using cached urllib3-1.24.3-py2.py3-none-any.whl (118 kB)\n",
      "Requirement already satisfied: certifi in /opt/conda/lib/python3.7/site-packages (from kaggle) (2019.11.28)\n",
      "Processing /home/jupyter/.cache/pip/wheels/7c/26/30/5f3d95da00fe94d0c4a5ec5b4ffd2e1ae18545f5fa61752e52/python_slugify-4.0.0-py2.py3-none-any.whl\n",
      "Requirement already satisfied: six>=1.10 in /opt/conda/lib/python3.7/site-packages (from kaggle) (1.14.0)\n",
      "Requirement already satisfied: python-dateutil in /opt/conda/lib/python3.7/site-packages (from kaggle) (2.8.1)\n",
      "Requirement already satisfied: idna<3,>=2.5 in /opt/conda/lib/python3.7/site-packages (from requests->kaggle) (2.9)\n",
      "Requirement already satisfied: chardet<4,>=3.0.2 in /opt/conda/lib/python3.7/site-packages (from requests->kaggle) (3.0.4)\n",
      "Collecting text-unidecode>=1.3\n",
      "  Using cached text_unidecode-1.3-py2.py3-none-any.whl (78 kB)\n",
      "\u001b[31mERROR: kubernetes 10.1.0 has requirement pyyaml~=3.12, but you'll have pyyaml 5.3.1 which is incompatible.\u001b[0m\n",
      "\u001b[31mERROR: jupyterlab-git 0.9.1 has requirement nbdime<2.0.0,>=1.1.0, but you'll have nbdime 2.0.0 which is incompatible.\u001b[0m\n",
      "Installing collected packages: urllib3, text-unidecode, python-slugify, kaggle\n",
      "  Attempting uninstall: urllib3\n",
      "    Found existing installation: urllib3 1.25.7\n",
      "    Uninstalling urllib3-1.25.7:\n",
      "      Successfully uninstalled urllib3-1.25.7\n",
      "Successfully installed kaggle-1.5.6 python-slugify-4.0.0 text-unidecode-1.3 urllib3-1.24.3\n"
     ]
    }
   ],
   "source": [
    "!pip install kaggle\n",
    "!pip install kaggle"
   ]
  },
  {
   "cell_type": "code",
   "execution_count": 16,
   "metadata": {},
   "outputs": [
    {
     "name": "stdout",
     "output_type": "stream",
     "text": [
      "mkdir: cannot create directory ‘input’: File exists\n"
     ]
    }
   ],
   "source": [
    "!mkdir input"
   ]
  },
  {
   "cell_type": "code",
   "execution_count": 17,
   "metadata": {},
   "outputs": [
    {
     "name": "stdout",
     "output_type": "stream",
     "text": [
      "Downloading liverpool-ion-switching.zip to /home/jupyter/university-of-liverpool-ion-switching\n",
      " 81%|██████████████████████████████▊       | 33.0M/40.8M [00:00<00:00, 25.6MB/s]\n",
      "100%|██████████████████████████████████████| 40.8M/40.8M [00:00<00:00, 57.5MB/s]\n"
     ]
    }
   ],
   "source": [
    "!kaggle competitions download -c liverpool-ion-switching"
   ]
  },
  {
   "cell_type": "code",
   "execution_count": 18,
   "metadata": {},
   "outputs": [
    {
     "name": "stdout",
     "output_type": "stream",
     "text": [
      "Archive:  liverpool-ion-switching.zip\n",
      "  inflating: input/liverpool-ion-switching/sample_submission.csv  \n",
      "  inflating: input/liverpool-ion-switching/test.csv  \n",
      "  inflating: input/liverpool-ion-switching/train.csv  \n"
     ]
    }
   ],
   "source": [
    "!unzip liverpool-ion-switching.zip -d input/liverpool-ion-switching"
   ]
  },
  {
   "cell_type": "code",
   "execution_count": 19,
   "metadata": {},
   "outputs": [],
   "source": [
    "!rm liverpool-ion-switching.zip"
   ]
  },
  {
   "cell_type": "code",
   "execution_count": 20,
   "metadata": {},
   "outputs": [
    {
     "name": "stdout",
     "output_type": "stream",
     "text": [
      "Downloading ion-shifted-rfc-proba.zip to input/ion-shifted-rfc-proba\n",
      " 90%|████████████████████████████████████▏   | 201M/222M [00:03<00:00, 52.1MB/s]\n",
      "100%|████████████████████████████████████████| 222M/222M [00:03<00:00, 64.7MB/s]\n"
     ]
    }
   ],
   "source": [
    "!kaggle datasets download sggpls/ion-shifted-rfc-proba  -p input/ion-shifted-rfc-proba --unzip"
   ]
  },
  {
   "cell_type": "code",
   "execution_count": 21,
   "metadata": {},
   "outputs": [
    {
     "name": "stdout",
     "output_type": "stream",
     "text": [
      "Downloading data-without-drift.zip to input/data-without-drift\n",
      " 75%|████████████████████████████▎         | 41.0M/55.0M [00:00<00:00, 25.4MB/s]\n",
      "100%|██████████████████████████████████████| 55.0M/55.0M [00:00<00:00, 60.7MB/s]\n"
     ]
    }
   ],
   "source": [
    "!kaggle datasets download cdeotte/data-without-drift -p input/data-without-drift --unzip"
   ]
  },
  {
   "cell_type": "code",
   "execution_count": 22,
   "metadata": {},
   "outputs": [
    {
     "name": "stdout",
     "output_type": "stream",
     "text": [
      "Downloading rapids.zip to input/rapids\n",
      " 42%|███████████████▊                      | 1.95G/4.67G [00:37<07:55, 6.14MB/s]^C\n"
     ]
    }
   ],
   "source": [
    "# !kaggle datasets download cdeotte/rapids -p input/rapids --unzip"
   ]
  },
  {
   "cell_type": "code",
   "execution_count": 1,
   "metadata": {},
   "outputs": [
    {
     "name": "stdout",
     "output_type": "stream",
     "text": [
      "Output file downloaded to input/knn-oof/oof_knn_feats.npy\n",
      "Output file downloaded to input/knn-oof/submission_knn.csv\n",
      "Output file downloaded to input/knn-oof/test_knn_feats.npy\n",
      "Kernel log downloaded to input/knn-oof/knn-oof.log \n"
     ]
    }
   ],
   "source": [
    "!kaggle kernels output jessepinkman21/knn-oof -p input/knn-oof"
   ]
  },
  {
   "cell_type": "code",
   "execution_count": null,
   "metadata": {},
   "outputs": [],
   "source": [
    "!kaggle kernels pull nxrprime/wavenet-with-shifted-rfc-proba-and-cbr -p wavenet-with-shifted-rfc-proba-and-cbr"
   ]
  },
  {
   "cell_type": "code",
   "execution_count": null,
   "metadata": {},
   "outputs": [],
   "source": [
    "5"
   ]
  }
 ],
 "metadata": {
  "kernelspec": {
   "display_name": "Python 3",
   "language": "python",
   "name": "python3"
  },
  "language_info": {
   "codemirror_mode": {
    "name": "ipython",
    "version": 3
   },
   "file_extension": ".py",
   "mimetype": "text/x-python",
   "name": "python",
   "nbconvert_exporter": "python",
   "pygments_lexer": "ipython3",
   "version": "3.7.6"
  }
 },
 "nbformat": 4,
 "nbformat_minor": 4
}
