{
 "cells": [
  {
   "cell_type": "code",
   "execution_count": null,
   "metadata": {},
   "outputs": [
    {
     "name": "stdout",
     "output_type": "stream",
     "text": [
      "2020-05-04 06:39:22.435522: I tensorflow/stream_executor/platform/default/dso_loader.cc:44] Successfully opened dynamic library libcudart.so.10.1\n",
      "2020-05-04 06:39:23.166550: I tensorflow/stream_executor/platform/default/dso_loader.cc:44] Successfully opened dynamic library libnvinfer.so.6\n",
      "2020-05-04 06:39:23.168016: I tensorflow/stream_executor/platform/default/dso_loader.cc:44] Successfully opened dynamic library libnvinfer_plugin.so.6\n",
      "TensorBoard 2.1.1 at http://tensorflow-20200424-195414:6006/ (Press CTRL+C to quit)\n",
      "E0504 06:40:44.241058 139906984302336 directory_watcher.py:255] File logs/train/events.out.tfevents.1588574425.tensorflow-20200424-195414.3469.1846.v2 updated even though the current file is logs/train/events.out.tfevents.1588574434.tensorflow-20200424-195414.profile-empty\n",
      "W0504 06:49:50.436213 139906984302336 plugin_event_multiplexer.py:259] Deleting accumulator 'validation'\n",
      "W0504 06:49:50.436535 139906984302336 plugin_event_multiplexer.py:259] Deleting accumulator 'train'\n",
      "E0504 06:50:25.511738 139906984302336 directory_watcher.py:255] File logs/train/events.out.tfevents.1588575010.tensorflow-20200424-195414.4546.2144.v2 updated even though the current file is logs/train/events.out.tfevents.1588575017.tensorflow-20200424-195414.profile-empty\n",
      "W0504 06:56:51.382896 139906984302336 plugin_event_multiplexer.py:259] Deleting accumulator 'validation'\n",
      "W0504 06:56:51.383080 139906984302336 plugin_event_multiplexer.py:259] Deleting accumulator 'train'\n",
      "E0504 06:58:16.503332 139906984302336 directory_watcher.py:255] File logs/train/events.out.tfevents.1588575482.tensorflow-20200424-195414.5276.2144.v2 updated even though the current file is logs/train/events.out.tfevents.1588575488.tensorflow-20200424-195414.profile-empty\n",
      "W0504 07:08:47.935764 139906984302336 plugin_event_accumulator.py:300] Found more than one graph event per run, or there was a metagraph containing a graph_def, as well as one or more graph events.  Overwriting the graph with the newest event.\n",
      "W0504 07:09:13.013057 139906984302336 plugin_event_accumulator.py:300] Found more than one graph event per run, or there was a metagraph containing a graph_def, as well as one or more graph events.  Overwriting the graph with the newest event.\n",
      "W0504 07:09:28.061864 139906984302336 plugin_event_accumulator.py:300] Found more than one graph event per run, or there was a metagraph containing a graph_def, as well as one or more graph events.  Overwriting the graph with the newest event.\n",
      "W0504 07:09:43.105831 139906984302336 plugin_event_accumulator.py:300] Found more than one graph event per run, or there was a metagraph containing a graph_def, as well as one or more graph events.  Overwriting the graph with the newest event.\n",
      "W0504 07:09:58.158004 139906984302336 plugin_event_accumulator.py:300] Found more than one graph event per run, or there was a metagraph containing a graph_def, as well as one or more graph events.  Overwriting the graph with the newest event.\n",
      "W0504 07:12:23.490950 139906984302336 plugin_event_multiplexer.py:259] Deleting accumulator 'validation'\n",
      "W0504 07:12:23.491134 139906984302336 plugin_event_multiplexer.py:259] Deleting accumulator 'train'\n",
      "E0504 07:13:13.564855 139906984302336 directory_watcher.py:255] File logs/train/events.out.tfevents.1588576381.tensorflow-20200424-195414.6971.2144.v2 updated even though the current file is logs/train/events.out.tfevents.1588576388.tensorflow-20200424-195414.profile-empty\n",
      "W0504 07:19:29.424839 139906984302336 plugin_event_accumulator.py:300] Found more than one graph event per run, or there was a metagraph containing a graph_def, as well as one or more graph events.  Overwriting the graph with the newest event.\n",
      "W0504 07:25:21.972446 139906984302336 plugin_event_accumulator.py:300] Found more than one graph event per run, or there was a metagraph containing a graph_def, as well as one or more graph events.  Overwriting the graph with the newest event.\n",
      "W0504 07:34:13.398276 139906984302336 plugin_event_accumulator.py:300] Found more than one graph event per run, or there was a metagraph containing a graph_def, as well as one or more graph events.  Overwriting the graph with the newest event.\n",
      "W0504 07:40:31.595819 139906984302336 plugin_event_accumulator.py:300] Found more than one graph event per run, or there was a metagraph containing a graph_def, as well as one or more graph events.  Overwriting the graph with the newest event.\n"
     ]
    }
   ],
   "source": [
    "!tensorboard --logdir=logs --bind_all"
   ]
  }
 ],
 "metadata": {
  "kernelspec": {
   "display_name": "Python 3",
   "language": "python",
   "name": "python3"
  },
  "language_info": {
   "codemirror_mode": {
    "name": "ipython",
    "version": 3
   },
   "file_extension": ".py",
   "mimetype": "text/x-python",
   "name": "python",
   "nbconvert_exporter": "python",
   "pygments_lexer": "ipython3",
   "version": "3.7.6"
  }
 },
 "nbformat": 4,
 "nbformat_minor": 4
}
