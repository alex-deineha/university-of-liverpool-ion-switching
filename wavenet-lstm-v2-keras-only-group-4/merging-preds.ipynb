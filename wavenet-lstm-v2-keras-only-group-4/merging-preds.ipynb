{
 "cells": [
  {
   "cell_type": "code",
   "execution_count": 1,
   "metadata": {},
   "outputs": [],
   "source": [
    "import numpy as np \n",
    "import pandas as pd"
   ]
  },
  {
   "cell_type": "code",
   "execution_count": 2,
   "metadata": {},
   "outputs": [],
   "source": [
    "def create_train_test_groups():\n",
    "    train_groups = {\n",
    "        0:[(0,1000000)],\n",
    "        1:[(1500000,2000000),(3500000,4000000)],\n",
    "        2:[(2500000,3000000),(4000000,4500000)],\n",
    "        3:[(1000000,1500000),(3000000,3500000)],\n",
    "        4:[(2000000,2500000),(4500000,5000000)]\n",
    "    }\n",
    "    train_signal_group = np.full(5000000, -1)\n",
    "    for k,v in train_groups.items():\n",
    "        for l,r in v:\n",
    "            train_signal_group[l:r] = k\n",
    "\n",
    "\n",
    "    test_df_signal_group = np.full(2000000, -1)\n",
    "    test_groups = {\n",
    "        0:[(0,100000)],\n",
    "        1:[(100000,200000),(900000,1000000)],\n",
    "        2:[(200000,300000),(600000,700000)],\n",
    "        3:[(400000,500000)],\n",
    "        4:[(500000,600000),(700000,800000)],\n",
    "        5:[(300000,400000),(800000,900000),(1000000,2000000)]\n",
    "    }\n",
    "    for k,v in test_groups.items():\n",
    "        for l,r in v:\n",
    "            test_df_signal_group[l:r] = k\n",
    "            \n",
    "    return train_signal_group, test_df_signal_group\n",
    "\n",
    "train_signal_group, test_df_signal_group = create_train_test_groups()"
   ]
  },
  {
   "cell_type": "code",
   "execution_count": 3,
   "metadata": {},
   "outputs": [],
   "source": [
    "def save_submission(y_test, name):\n",
    "    y_test = np.argmax(y_test, axis=1)\n",
    "    submission = pd.read_csv(\"../input/liverpool-ion-switching/sample_submission.csv\")\n",
    "    submission[\"open_channels\"] = np.asarray(y_test, dtype=np.int32)\n",
    "    submission.to_csv(f\"{name}.csv\", index=False, float_format=\"%.4f\")"
   ]
  },
  {
   "cell_type": "code",
   "execution_count": 4,
   "metadata": {},
   "outputs": [],
   "source": [
    "oof_preds = np.load('../wavenet-lstm-v2-keras/oof_wavenet_probs.npy')\n",
    "test_preds = np.load('../wavenet-lstm-v2-keras/test_wavenet_probs.npy')"
   ]
  },
  {
   "cell_type": "code",
   "execution_count": 5,
   "metadata": {},
   "outputs": [
    {
     "name": "stdout",
     "output_type": "stream",
     "text": [
      "(1000000, 10) (200000, 10)\n",
      "(1000000, 11) (200000, 11)\n"
     ]
    }
   ],
   "source": [
    "g4_oof_preds = np.load('oof_wavenet_probs.npy')\n",
    "g4_test_preds = np.load('test_wavenet_probs.npy')\n",
    "\n",
    "print(g4_oof_preds.shape, g4_test_preds.shape)\n",
    "\n",
    "g4_oof_preds = np.concatenate(\n",
    "    [np.zeros((len(g4_oof_preds),1)), g4_oof_preds], axis=1)\n",
    "g4_test_preds = np.concatenate(\n",
    "    [np.zeros((len(g4_test_preds),1)), g4_test_preds], axis=1)\n",
    "\n",
    "print(g4_oof_preds.shape, g4_test_preds.shape)"
   ]
  },
  {
   "cell_type": "code",
   "execution_count": 6,
   "metadata": {},
   "outputs": [],
   "source": [
    "oof_pred_mixed = oof_preds.copy()\n",
    "test_pred_mixed = test_preds.copy()\n",
    "\n",
    "\n",
    "oof_pred_mixed[2000000:2500000] = g4_oof_preds[:500000]\n",
    "oof_pred_mixed[4500000:5000000] = g4_oof_preds[500000:]\n",
    "\n",
    "\n",
    "test_pred_mixed[500000:600000] = g4_test_preds[:100000]\n",
    "test_pred_mixed[700000:800000] = g4_test_preds[100000:]"
   ]
  },
  {
   "cell_type": "code",
   "execution_count": 7,
   "metadata": {},
   "outputs": [],
   "source": [
    "from sklearn.metrics import f1_score\n",
    "y_true = pd.read_csv(\"../input/liverpool-ion-switching/train.csv\").open_channels.values"
   ]
  },
  {
   "cell_type": "code",
   "execution_count": 11,
   "metadata": {},
   "outputs": [],
   "source": [
    "def groups_f1(y_true, y_pred):\n",
    "    train_signal_group, test_df_signal_group = create_train_test_groups()\n",
    "    \n",
    "    for i in range(5):\n",
    "        f1 = f1_score(y_true[train_signal_group==i], y_pred[train_signal_group==i], average='macro')\n",
    "        \n",
    "        if i == 4:\n",
    "            f1_ = f1_score(y_true[train_signal_group==i],y_pred[train_signal_group==i], average='macro', labels=np.arange(1, 11))\n",
    "            print(f'Group {i} {f1} ({f1_})')\n",
    "        else:\n",
    "            print(f'Group {i} {f1}')\n",
    "            \n",
    "    print('Total', f1_score(y_true, y_pred, average='macro'))"
   ]
  },
  {
   "cell_type": "code",
   "execution_count": 12,
   "metadata": {},
   "outputs": [
    {
     "name": "stdout",
     "output_type": "stream",
     "text": [
      "Group 0, 0.6648954577448117\n",
      "Group 1, 0.6498282485115017\n",
      "Group 2, 0.9731941791223476\n",
      "Group 3, 0.9970441134441017\n",
      "Group 4, 0.7855970443669061, (0.8641567488035967)\n",
      "Total 0.9407024419353109\n"
     ]
    }
   ],
   "source": [
    "#Best model\n",
    "groups_f1(y_true, oof_preds.argmax(axis=1))"
   ]
  },
  {
   "cell_type": "code",
   "execution_count": 13,
   "metadata": {},
   "outputs": [
    {
     "name": "stdout",
     "output_type": "stream",
     "text": [
      "Group 0, 0.49104130912318633\n",
      "Group 1, 0.011829351162627217\n",
      "Group 2, 0.0006397697228230114\n",
      "Group 3, 0.19948703128965042\n",
      "Group 4, 3.6363563636509083e-07, (0.0)\n",
      "Total 0.03613408484571879\n"
     ]
    }
   ],
   "source": [
    "groups_f1(y_true, np.full(5000000, 0))"
   ]
  },
  {
   "cell_type": "code",
   "execution_count": null,
   "metadata": {},
   "outputs": [],
   "source": []
  },
  {
   "cell_type": "code",
   "execution_count": 68,
   "metadata": {},
   "outputs": [
    {
     "data": {
      "text/plain": [
       "0.9407024419353109"
      ]
     },
     "execution_count": 68,
     "metadata": {},
     "output_type": "execute_result"
    }
   ],
   "source": [
    "f1_score(y_true, oof_preds.argmax(axis=1), average='macro')"
   ]
  },
  {
   "cell_type": "code",
   "execution_count": 45,
   "metadata": {},
   "outputs": [
    {
     "name": "stdout",
     "output_type": "stream",
     "text": [
      "Only 10 chanels oof on group 4\n"
     ]
    },
    {
     "data": {
      "text/plain": [
       "0.8533231100602989"
      ]
     },
     "execution_count": 45,
     "metadata": {},
     "output_type": "execute_result"
    }
   ],
   "source": [
    "print('Only 10 chanels oof on group 4')\n",
    "\n",
    "f1_score(y_true[train_signal_group==4], \n",
    "         g4_oof_preds.argmax(axis=1), average='macro', labels=np.arange(1, 11))"
   ]
  },
  {
   "cell_type": "code",
   "execution_count": 47,
   "metadata": {},
   "outputs": [
    {
     "name": "stdout",
     "output_type": "stream",
     "text": [
      "Only 10 chanels oof on group 4\n"
     ]
    },
    {
     "data": {
      "text/plain": [
       "0.8543389830761721"
      ]
     },
     "execution_count": 47,
     "metadata": {},
     "output_type": "execute_result"
    }
   ],
   "source": [
    "print('Only 10 chanels oof on group 4')\n",
    "a = y_true[train_signal_group==4]\n",
    "a[a==0]=1\n",
    "f1_score(a, \n",
    "         g4_oof_preds.argmax(axis=1), average='macro', labels=np.arange(1, 11))"
   ]
  },
  {
   "cell_type": "code",
   "execution_count": null,
   "metadata": {},
   "outputs": [],
   "source": [
    "!kaggle competitions submit -c liverpool-ion-switching -f blend_new_wavenets.csv -m \"np.mean([new_wavenet_and_feats, new_wavenet], axis=0)\""
   ]
  },
  {
   "cell_type": "code",
   "execution_count": 29,
   "metadata": {},
   "outputs": [
    {
     "name": "stdout",
     "output_type": "stream",
     "text": [
      "0\n",
      "y_true [964796, 35204, 0, 0, 0, 0, 0, 0, 0, 0, 0]\n",
      "y_pred [964778, 35221, 0, 1, 0, 0, 0, 0, 0, 0, 0]\n",
      "test_p [92669, 7330, 0, 1, 0, 0, 0, 0, 0, 0, 0]\n",
      "1\n",
      "y_true [24232, 176123, 433542, 366103, 0, 0, 0, 0, 0, 0, 0]\n",
      "y_pred [23873, 175539, 435033, 365553, 1, 0, 0, 0, 0, 0, 1]\n",
      "test_p [4241, 34086, 86966, 74706, 0, 1, 0, 0, 0, 0, 0]\n",
      "2\n",
      "y_true [1923, 23611, 119295, 295567, 373428, 186176, 0, 0, 0, 0, 0]\n",
      "y_pred [1902, 23484, 119208, 295412, 373649, 186345, 0, 0, 0, 0, 0]\n",
      "test_p [409, 5149, 24084, 58538, 74036, 37750, 14, 18, 1, 1, 0]\n",
      "3\n",
      "y_true [249199, 750801, 0, 0, 0, 0, 0, 0, 0, 0, 0]\n",
      "y_pred [249141, 750859, 0, 0, 0, 0, 0, 0, 0, 0, 0]\n",
      "test_p [25998, 74001, 0, 1, 0, 0, 0, 0, 0, 0, 0]\n",
      "4\n",
      "y_true [2, 126, 1087, 6939, 29982, 91701, 188112, 265015, 245183, 136120, 35733]\n",
      "y_pred [0, 101, 1083, 6651, 29629, 90171, 188306, 266875, 246245, 136047, 34892]\n",
      "test_p [0, 21, 239, 1475, 6390, 18185, 37205, 52866, 49412, 27099, 7108]\n"
     ]
    }
   ],
   "source": [
    "def count_by_groups(y_true,y_pred, test_pred):\n",
    "    train_signal_group, test_df_signal_group = create_train_test_groups()\n",
    "    y = np.arange(11)\n",
    "    for i in range(5):\n",
    "        print(i)\n",
    "        print('y_true',list(np.bincount(y_true[train_signal_group == i], minlength=11)))\n",
    "        print('y_pred',list(np.bincount(y_pred[train_signal_group == i], minlength=11)))\n",
    "        print('test_p',list(np.bincount(test_pred[test_df_signal_group == i],minlength=11)))\n",
    "    \n",
    "    \n",
    "count_by_groups(y_true,oof_preds.argmax(axis=1), test_preds.argmax(axis=1))"
   ]
  },
  {
   "cell_type": "code",
   "execution_count": 32,
   "metadata": {},
   "outputs": [
    {
     "data": {
      "text/plain": [
       "array([ 0,  1,  3,  2, 10,  9,  8,  7,  6,  5,  4])"
      ]
     },
     "execution_count": 32,
     "metadata": {},
     "output_type": "execute_result"
    }
   ],
   "source": [
    "pd.read_csv(\"../input/liverpool-ion-switching/train.csv\").open_channels.unique()"
   ]
  }
 ],
 "metadata": {
  "kernelspec": {
   "display_name": "Python 3",
   "language": "python",
   "name": "python3"
  },
  "language_info": {
   "codemirror_mode": {
    "name": "ipython",
    "version": 3
   },
   "file_extension": ".py",
   "mimetype": "text/x-python",
   "name": "python",
   "nbconvert_exporter": "python",
   "pygments_lexer": "ipython3",
   "version": "3.7.6"
  }
 },
 "nbformat": 4,
 "nbformat_minor": 4
}
