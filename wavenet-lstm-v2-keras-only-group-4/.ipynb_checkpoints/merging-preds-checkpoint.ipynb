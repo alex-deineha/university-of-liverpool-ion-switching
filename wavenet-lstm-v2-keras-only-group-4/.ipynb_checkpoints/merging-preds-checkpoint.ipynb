{
 "cells": [
  {
   "cell_type": "code",
   "execution_count": 1,
   "metadata": {},
   "outputs": [],
   "source": [
    "import numpy as np \n",
    "import pandas as pd"
   ]
  },
  {
   "cell_type": "code",
   "execution_count": 35,
   "metadata": {},
   "outputs": [],
   "source": [
    "def create_train_test_groups():\n",
    "    train_groups = {\n",
    "        0:[(0,1000000)],\n",
    "        1:[(1500000,2000000),(3500000,4000000)],\n",
    "        2:[(2500000,3000000),(4000000,4500000)],\n",
    "        3:[(1000000,1500000),(3000000,3500000)],\n",
    "        4:[(2000000,2500000),(4500000,5000000)]\n",
    "    }\n",
    "    train_signal_group = np.full(5000000, -1)\n",
    "    for k,v in train_groups.items():\n",
    "        for l,r in v:\n",
    "            train_signal_group[l:r] = k\n",
    "\n",
    "\n",
    "    test_df_signal_group = np.full(2000000, -1)\n",
    "    test_groups = {\n",
    "        0:[(0,100000)],\n",
    "        1:[(100000,200000),(900000,1000000)],\n",
    "        2:[(200000,300000),(600000,700000)],\n",
    "        3:[(400000,500000)],\n",
    "        4:[(500000,600000),(700000,800000)],\n",
    "        5:[(300000,400000),(800000,900000),(1000000,2000000)]\n",
    "    }\n",
    "    for k,v in test_groups.items():\n",
    "        for l,r in v:\n",
    "            test_df_signal_group[l:r] = k\n",
    "            \n",
    "    return train_signal_group, test_df_signal_group\n",
    "\n",
    "train_signal_group, test_df_signal_group = create_train_test_groups()"
   ]
  },
  {
   "cell_type": "code",
   "execution_count": 21,
   "metadata": {},
   "outputs": [],
   "source": [
    "def save_submission(y_test, name):\n",
    "    y_test = np.argmax(y_test, axis=1)\n",
    "    submission = pd.read_csv(\"../input/liverpool-ion-switching/sample_submission.csv\")\n",
    "    submission[\"open_channels\"] = np.asarray(y_test, dtype=np.int32)\n",
    "    submission.to_csv(f\"{name}.csv\", index=False, float_format=\"%.4f\")"
   ]
  },
  {
   "cell_type": "code",
   "execution_count": 3,
   "metadata": {},
   "outputs": [],
   "source": [
    "train_group_4 =[(2000000,2500000),(4500000,5000000)]\n",
    "test_group_4 = [(500000,600000),(700000,800000)]"
   ]
  },
  {
   "cell_type": "code",
   "execution_count": 7,
   "metadata": {},
   "outputs": [
    {
     "data": {
      "text/plain": [
       "1000000"
      ]
     },
     "execution_count": 7,
     "metadata": {},
     "output_type": "execute_result"
    }
   ],
   "source": [
    "2500000-2000000 + 5000000 - 4500000"
   ]
  },
  {
   "cell_type": "code",
   "execution_count": 8,
   "metadata": {},
   "outputs": [
    {
     "data": {
      "text/plain": [
       "200000"
      ]
     },
     "execution_count": 8,
     "metadata": {},
     "output_type": "execute_result"
    }
   ],
   "source": [
    "-500000+600000-700000+800000"
   ]
  },
  {
   "cell_type": "code",
   "execution_count": 20,
   "metadata": {},
   "outputs": [
    {
     "name": "stdout",
     "output_type": "stream",
     "text": [
      "(5000000, 11) (2000000, 11)\n"
     ]
    }
   ],
   "source": [
    "oof_preds = np.load('../wavenet-lstm-v2-keras/oof_wavenet_probs.npy')\n",
    "test_preds = np.load('../wavenet-lstm-v2-keras/test_wavenet_probs.npy')\n",
    "\n",
    "print(oof_preds.shape, test_preds.shape)"
   ]
  },
  {
   "cell_type": "code",
   "execution_count": 19,
   "metadata": {},
   "outputs": [
    {
     "name": "stdout",
     "output_type": "stream",
     "text": [
      "(1000000, 10) (200000, 10)\n",
      "(1000000, 11) (200000, 11)\n"
     ]
    }
   ],
   "source": [
    "g4_oof_preds = np.load('oof_wavenet_probs.npy')\n",
    "g4_test_preds = np.load('test_wavenet_probs.npy')\n",
    "\n",
    "print(g4_oof_preds.shape, g4_test_preds.shape)\n",
    "\n",
    "g4_oof_preds = np.concatenate(\n",
    "    [np.zeros((len(g4_oof_preds),1)), g4_oof_preds], axis=1)\n",
    "g4_test_preds = np.concatenate(\n",
    "    [np.zeros((len(g4_test_preds),1)), g4_test_preds], axis=1)\n",
    "\n",
    "print(g4_oof_preds.shape, g4_test_preds.shape)"
   ]
  },
  {
   "cell_type": "code",
   "execution_count": 22,
   "metadata": {},
   "outputs": [],
   "source": [
    "oof_pred_mixed = oof_preds.copy()\n",
    "test_pred_mixed = test_preds.copy()\n",
    "\n",
    "\n",
    "oof_pred_mixed[2000000:2500000] = g4_oof_preds[:500000]\n",
    "oof_pred_mixed[4500000:5000000] = g4_oof_preds[500000:]\n",
    "\n",
    "\n",
    "test_pred_mixed[500000:600000] = g4_test_preds[:100000]\n",
    "test_pred_mixed[700000:800000] = g4_test_preds[100000:]"
   ]
  },
  {
   "cell_type": "code",
   "execution_count": 26,
   "metadata": {},
   "outputs": [],
   "source": [
    "from sklearn.metrics import f1_score\n",
    "y_true = pd.read_csv(\"../input/liverpool-ion-switching/train.csv\").open_channels.values"
   ]
  },
  {
   "cell_type": "code",
   "execution_count": 32,
   "metadata": {},
   "outputs": [
    {
     "data": {
      "text/plain": [
       "0.9389978092486865"
      ]
     },
     "execution_count": 32,
     "metadata": {},
     "output_type": "execute_result"
    }
   ],
   "source": [
    "f1_score(y_true, oof_pred_mixed.argmax(axis=1), average='macro')"
   ]
  },
  {
   "cell_type": "code",
   "execution_count": 18,
   "metadata": {},
   "outputs": [
    {
     "data": {
      "text/plain": [
       "array([0., 0., 0., ..., 0., 0., 0.])"
      ]
     },
     "execution_count": 18,
     "metadata": {},
     "output_type": "execute_result"
    }
   ],
   "source": [
    "!kaggle competitions submit -c liverpool-ion-switching -f blend_new_wavenets.csv -m \"np.mean([new_wavenet_and_feats, new_wavenet], axis=0)\""
   ]
  },
  {
   "cell_type": "code",
   "execution_count": 48,
   "metadata": {},
   "outputs": [
    {
     "name": "stdout",
     "output_type": "stream",
     "text": [
      "Best train oof on group 4\n",
      "0.7855970443669061\n"
     ]
    },
    {
     "data": {
      "text/plain": [
       "0.8641567488035967"
      ]
     },
     "execution_count": 48,
     "metadata": {},
     "output_type": "execute_result"
    }
   ],
   "source": [
    "print('Best train oof on group 4')\n",
    "print(f1_score(y_true[train_signal_group==4], \n",
    "         oof_preds.argmax(axis=1)[train_signal_group==4], average='macro'))\n",
    "\n",
    "f1_score(y_true[train_signal_group==4], \n",
    "         oof_preds.argmax(axis=1)[train_signal_group==4], average='macro', labels=np.arange(1, 11))"
   ]
  },
  {
   "cell_type": "code",
   "execution_count": null,
   "metadata": {},
   "outputs": [],
   "source": [
    "def groups_f1(y_true, y_pred):\n",
    "    train_signal_group, test_df_signal_group = create_train_test_groups()\n",
    "    \n",
    "    for i in range(5):\n",
    "        f1 = f1_score(y_true[train_signal_group==i], y_pred[train_signal_group==i], average='macro')\n",
    "        \n",
    "        f1_ = f1_score(y_true[train_signal_group==i],y_pred[train_signal_group==i], average='macro', labels=np.arange(1, 11))\n",
    "        \n",
    "        if i == 4:\n",
    "            print(f'Group {i}, {f1}, ({f1_})')\n",
    "        else:\n",
    "            print(f'Group {i}, {f1}')\n",
    "            \n",
    "    print(f'Total')"
   ]
  },
  {
   "cell_type": "code",
   "execution_count": null,
   "metadata": {},
   "outputs": [],
   "source": [
    "#Best model\n",
    "groups_f1(y_true, oof_preds.argmax(axis=1))"
   ]
  },
  {
   "cell_type": "code",
   "execution_count": 68,
   "metadata": {},
   "outputs": [
    {
     "data": {
      "text/plain": [
       "0.9407024419353109"
      ]
     },
     "execution_count": 68,
     "metadata": {},
     "output_type": "execute_result"
    }
   ],
   "source": [
    "f1_score(y_true, oof_preds.argmax(axis=1), average='macro')"
   ]
  },
  {
   "cell_type": "code",
   "execution_count": 45,
   "metadata": {},
   "outputs": [
    {
     "name": "stdout",
     "output_type": "stream",
     "text": [
      "Only 10 chanels oof on group 4\n"
     ]
    },
    {
     "data": {
      "text/plain": [
       "0.8533231100602989"
      ]
     },
     "execution_count": 45,
     "metadata": {},
     "output_type": "execute_result"
    }
   ],
   "source": [
    "print('Only 10 chanels oof on group 4')\n",
    "\n",
    "f1_score(y_true[train_signal_group==4], \n",
    "         g4_oof_preds.argmax(axis=1), average='macro', labels=np.arange(1, 11))"
   ]
  },
  {
   "cell_type": "code",
   "execution_count": 47,
   "metadata": {},
   "outputs": [
    {
     "name": "stdout",
     "output_type": "stream",
     "text": [
      "Only 10 chanels oof on group 4\n"
     ]
    },
    {
     "data": {
      "text/plain": [
       "0.8543389830761721"
      ]
     },
     "execution_count": 47,
     "metadata": {},
     "output_type": "execute_result"
    }
   ],
   "source": [
    "print('Only 10 chanels oof on group 4')\n",
    "a = y_true[train_signal_group==4]\n",
    "a[a==0]=1\n",
    "f1_score(a, \n",
    "         g4_oof_preds.argmax(axis=1), average='macro', labels=np.arange(1, 11))"
   ]
  }
 ],
 "metadata": {
  "kernelspec": {
   "display_name": "Python 3",
   "language": "python",
   "name": "python3"
  },
  "language_info": {
   "codemirror_mode": {
    "name": "ipython",
    "version": 3
   },
   "file_extension": ".py",
   "mimetype": "text/x-python",
   "name": "python",
   "nbconvert_exporter": "python",
   "pygments_lexer": "ipython3",
   "version": "3.7.6"
  }
 },
 "nbformat": 4,
 "nbformat_minor": 4
}
