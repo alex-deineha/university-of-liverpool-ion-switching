{
 "cells": [
  {
   "cell_type": "code",
   "execution_count": 2,
   "metadata": {},
   "outputs": [],
   "source": [
    "import numpy as np\n",
    "import pandas as pd\n",
    "from scipy.special import softmax\n",
    "import matplotlib.pyplot as plt"
   ]
  },
  {
   "cell_type": "code",
   "execution_count": 2,
   "metadata": {},
   "outputs": [],
   "source": [
    "# new_wavenet_and_feats = softmax(np.load('new_wavenet_and_feats_(best4folds).npy').mean(axis=0), axis=-1)\n",
    "# new_wavenet = softmax(np.load('new_wavenet.npy').mean(axis=0), axis=-1)\n",
    "# wavenet_and_feats = np.load('../wavenet-with-shifted-rfc-proba-and-cbr-knn-lgb-mlp/test_wavenet_probs.npy')"
   ]
  },
  {
   "cell_type": "code",
   "execution_count": 1,
   "metadata": {},
   "outputs": [],
   "source": [
    "# for i in np.random.randint(2_000_000, size=5):\n",
    "#     plt.plot(new_wavenet_and_feats[i])\n",
    "#     plt.plot(new_wavenet[i])\n",
    "#     plt.plot(wavenet_and_feats[i])\n",
    "#     plt.show()"
   ]
  },
  {
   "cell_type": "code",
   "execution_count": null,
   "metadata": {},
   "outputs": [],
   "source": []
  },
  {
   "cell_type": "code",
   "execution_count": 5,
   "metadata": {},
   "outputs": [],
   "source": [
    "wavenet_cycle_oof = np.load('../wavenet-lstm-v2-keras-cycle-lr/oof_wavenet_probs.npy')\n",
    "wavenet_oof = np.load('../wavenet-lstm-v2-keras/oof_wavenet_probs.npy')\n",
    "\n",
    "\n",
    "wavenet_cycle_test = np.load('../wavenet-lstm-v2-keras-cycle-lr/test_wavenet_probs.npy')\n",
    "wavenet_test = np.load('../wavenet-lstm-v2-keras/test_wavenet_probs.npy')\n",
    "\n",
    "# blend_all = np.mean([new_wavenet_and_feats, new_wavenet, wavenet_and_feats], axis=0)"
   ]
  },
  {
   "cell_type": "code",
   "execution_count": null,
   "metadata": {},
   "outputs": [],
   "source": [
    "# blend_all = np.mean([new_wavenet_and_feats, new_wavenet, wavenet_and_feats], axis=0)"
   ]
  },
  {
   "cell_type": "code",
   "execution_count": 20,
   "metadata": {},
   "outputs": [],
   "source": [
    "def save_submission(y_test, name):\n",
    "    y_test = np.argmax(y_test, axis=1)\n",
    "    submission = pd.read_csv(\"../input/liverpool-ion-switching/sample_submission.csv\")\n",
    "    submission[\"open_channels\"] = np.asarray(y_test, dtype=np.int32)\n",
    "    submission.to_csv(f\"{name}.csv\", index=False, float_format=\"%.4f\")"
   ]
  },
  {
   "cell_type": "code",
   "execution_count": 3,
   "metadata": {},
   "outputs": [],
   "source": [
    "# blend_all = np.mean([new_wavenet_and_feats, new_wavenet, wavenet_and_feats], axis=0)\n",
    "# for i in np.random.randint(2_000_000, size=5):\n",
    "#     plt.plot(blend_all[i])\n",
    "#     plt.show()"
   ]
  },
  {
   "cell_type": "code",
   "execution_count": null,
   "metadata": {},
   "outputs": [],
   "source": []
  },
  {
   "cell_type": "code",
   "execution_count": 22,
   "metadata": {},
   "outputs": [],
   "source": [
    "save_submission(blend_all, 'blend_all')"
   ]
  },
  {
   "cell_type": "code",
   "execution_count": 23,
   "metadata": {},
   "outputs": [
    {
     "data": {
      "text/html": [
       "<div>\n",
       "<style scoped>\n",
       "    .dataframe tbody tr th:only-of-type {\n",
       "        vertical-align: middle;\n",
       "    }\n",
       "\n",
       "    .dataframe tbody tr th {\n",
       "        vertical-align: top;\n",
       "    }\n",
       "\n",
       "    .dataframe thead th {\n",
       "        text-align: right;\n",
       "    }\n",
       "</style>\n",
       "<table border=\"1\" class=\"dataframe\">\n",
       "  <thead>\n",
       "    <tr style=\"text-align: right;\">\n",
       "      <th></th>\n",
       "      <th>time</th>\n",
       "      <th>open_channels</th>\n",
       "    </tr>\n",
       "  </thead>\n",
       "  <tbody>\n",
       "    <tr>\n",
       "      <th>count</th>\n",
       "      <td>2.000000e+06</td>\n",
       "      <td>2.000000e+06</td>\n",
       "    </tr>\n",
       "    <tr>\n",
       "      <th>mean</th>\n",
       "      <td>6.000001e+02</td>\n",
       "      <td>1.380756e+00</td>\n",
       "    </tr>\n",
       "    <tr>\n",
       "      <th>std</th>\n",
       "      <td>5.773504e+01</td>\n",
       "      <td>2.319989e+00</td>\n",
       "    </tr>\n",
       "    <tr>\n",
       "      <th>min</th>\n",
       "      <td>5.000001e+02</td>\n",
       "      <td>0.000000e+00</td>\n",
       "    </tr>\n",
       "    <tr>\n",
       "      <th>25%</th>\n",
       "      <td>5.500001e+02</td>\n",
       "      <td>0.000000e+00</td>\n",
       "    </tr>\n",
       "    <tr>\n",
       "      <th>50%</th>\n",
       "      <td>6.000000e+02</td>\n",
       "      <td>0.000000e+00</td>\n",
       "    </tr>\n",
       "    <tr>\n",
       "      <th>75%</th>\n",
       "      <td>6.500000e+02</td>\n",
       "      <td>2.000000e+00</td>\n",
       "    </tr>\n",
       "    <tr>\n",
       "      <th>max</th>\n",
       "      <td>7.000000e+02</td>\n",
       "      <td>1.000000e+01</td>\n",
       "    </tr>\n",
       "  </tbody>\n",
       "</table>\n",
       "</div>"
      ],
      "text/plain": [
       "               time  open_channels\n",
       "count  2.000000e+06   2.000000e+06\n",
       "mean   6.000001e+02   1.380756e+00\n",
       "std    5.773504e+01   2.319989e+00\n",
       "min    5.000001e+02   0.000000e+00\n",
       "25%    5.500001e+02   0.000000e+00\n",
       "50%    6.000000e+02   0.000000e+00\n",
       "75%    6.500000e+02   2.000000e+00\n",
       "max    7.000000e+02   1.000000e+01"
      ]
     },
     "execution_count": 23,
     "metadata": {},
     "output_type": "execute_result"
    }
   ],
   "source": [
    "pd.read_csv('blend_all.csv').describe()"
   ]
  },
  {
   "cell_type": "code",
   "execution_count": 24,
   "metadata": {},
   "outputs": [
    {
     "name": "stdout",
     "output_type": "stream",
     "text": [
      "100%|██████████████████████████████████████| 21.0M/21.0M [00:09<00:00, 2.41MB/s]\n",
      "Successfully submitted to University of Liverpool - Ion Switching"
     ]
    }
   ],
   "source": [
    "!kaggle competitions submit -c liverpool-ion-switching -f blend_all.csv -m \"np.mean([new_wavenet_and_feats, new_wavenet, wavenet_and_feats], axis=0)\""
   ]
  },
  {
   "cell_type": "code",
   "execution_count": 26,
   "metadata": {},
   "outputs": [
    {
     "data": {
      "image/png": "[encoded data removed]",
      "text/plain": [
       "<Figure size 432x288 with 1 Axes>"
      ]
     },
     "metadata": {
      "needs_background": "light"
     },
     "output_type": "display_data"
    },
    {
     "data": {
      "image/png": "[encoded data removed]",
      "text/plain": [
       "<Figure size 432x288 with 1 Axes>"
      ]
     },
     "metadata": {
      "needs_background": "light"
     },
     "output_type": "display_data"
    },
    {
     "data": {
      "image/png": "[encoded data removed]",
      "text/plain": [
       "<Figure size 432x288 with 1 Axes>"
      ]
     },
     "metadata": {
      "needs_background": "light"
     },
     "output_type": "display_data"
    },
    {
     "data": {
      "image/png": "[encoded data removed]",
      "text/plain": [
       "<Figure size 432x288 with 1 Axes>"
      ]
     },
     "metadata": {
      "needs_background": "light"
     },
     "output_type": "display_data"
    },
    {
     "data": {
      "image/png": "[encoded data removed]",
      "text/plain": [
       "<Figure size 432x288 with 1 Axes>"
      ]
     },
     "metadata": {
      "needs_background": "light"
     },
     "output_type": "display_data"
    }
   ],
   "source": [
    "blend_new_wavenets = np.mean([new_wavenet_and_feats, new_wavenet], axis=0)\n",
    "for i in np.random.randint(2_000_000, size=5):\n",
    "    plt.plot(blend_new_wavenets[i])\n",
    "    plt.show()\n",
    "    \n",
    "save_submission(blend_new_wavenets, 'blend_new_wavenets')"
   ]
  },
  {
   "cell_type": "code",
   "execution_count": 27,
   "metadata": {},
   "outputs": [
    {
     "name": "stdout",
     "output_type": "stream",
     "text": [
      "100%|██████████████████████████████████████| 21.0M/21.0M [00:07<00:00, 2.99MB/s]\n",
      "Successfully submitted to University of Liverpool - Ion Switching"
     ]
    }
   ],
   "source": [
    "!kaggle competitions submit -c liverpool-ion-switching -f blend_new_wavenets.csv -m \"np.mean([new_wavenet_and_feats, new_wavenet], axis=0)\""
   ]
  },
  {
   "cell_type": "code",
   "execution_count": 4,
   "metadata": {},
   "outputs": [
    {
     "name": "stdout",
     "output_type": "stream",
     "text": [
      "Archive:  test_probs.zip\n",
      "  inflating: test_probs.npy          \n"
     ]
    }
   ],
   "source": [
    "!unzip test_probs.zip"
   ]
  }
 ],
 "metadata": {
  "kernelspec": {
   "display_name": "Python 3",
   "language": "python",
   "name": "python3"
  },
  "language_info": {
   "codemirror_mode": {
    "name": "ipython",
    "version": 3
   },
   "file_extension": ".py",
   "mimetype": "text/x-python",
   "name": "python",
   "nbconvert_exporter": "python",
   "pygments_lexer": "ipython3",
   "version": "3.7.6"
  }
 },
 "nbformat": 4,
 "nbformat_minor": 4
}
