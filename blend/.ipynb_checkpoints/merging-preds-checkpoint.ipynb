{
 "cells": [
  {
   "cell_type": "code",
   "execution_count": 1,
   "metadata": {},
   "outputs": [],
   "source": [
    "import numpy as np \n",
    "import pandas as pd"
   ]
  },
  {
   "cell_type": "code",
   "execution_count": 2,
   "metadata": {},
   "outputs": [],
   "source": [
    "def create_train_test_groups():\n",
    "    train_groups = {\n",
    "        0:[(0,1000000)],\n",
    "        1:[(1500000,2000000),(3500000,4000000)],\n",
    "        2:[(2500000,3000000),(4000000,4500000)],\n",
    "        3:[(1000000,1500000),(3000000,3500000)],\n",
    "        4:[(2000000,2500000),(4500000,5000000)]\n",
    "    }\n",
    "    train_signal_group = np.full(5000000, -1)\n",
    "    for k,v in train_groups.items():\n",
    "        for l,r in v:\n",
    "            train_signal_group[l:r] = k\n",
    "\n",
    "\n",
    "    test_df_signal_group = np.full(2000000, -1)\n",
    "    test_groups = {\n",
    "        0:[(0,100000)],\n",
    "        1:[(100000,200000),(900000,1000000)],\n",
    "        2:[(200000,300000),(600000,700000)],\n",
    "        3:[(400000,500000)],\n",
    "        4:[(500000,600000),(700000,800000)],\n",
    "        5:[(300000,400000),(800000,900000),(1000000,2000000)]\n",
    "    }\n",
    "    for k,v in test_groups.items():\n",
    "        for l,r in v:\n",
    "            test_df_signal_group[l:r] = k\n",
    "            \n",
    "    return train_signal_group, test_df_signal_group\n",
    "\n",
    "train_signal_group, test_df_signal_group = create_train_test_groups()"
   ]
  },
  {
   "cell_type": "code",
   "execution_count": 3,
   "metadata": {},
   "outputs": [],
   "source": [
    "def save_submission(y_test, name):\n",
    "    y_test = np.argmax(y_test, axis=1)\n",
    "    submission = pd.read_csv(\"../input/liverpool-ion-switching/sample_submission.csv\")\n",
    "    submission[\"open_channels\"] = np.asarray(y_test, dtype=np.int32)\n",
    "    submission.to_csv(f\"{name}.csv\", index=False, float_format=\"%.4f\")"
   ]
  },
  {
   "cell_type": "code",
   "execution_count": 4,
   "metadata": {},
   "outputs": [],
   "source": [
    "wavenet_oof = np.load('../wavenet-lstm-v2-keras/oof_wavenet_probs.npy')\n",
    "wavenet_test = np.load('../wavenet-lstm-v2-keras/test_wavenet_probs.npy')\n",
    "\n",
    "\n",
    "wavenet_cycle_oof = np.load('../wavenet-lstm-v2-keras-cycle-lr/oof_wavenet_probs.npy')\n",
    "wavenet_cycle_test = np.load('../wavenet-lstm-v2-keras-cycle-lr/test_wavenet_probs.npy')\n",
    "\n"
   ]
  },
  {
   "cell_type": "code",
   "execution_count": 5,
   "metadata": {},
   "outputs": [],
   "source": [
    "from sklearn.metrics import f1_score\n",
    "y_true = pd.read_csv(\"../input/liverpool-ion-switching/train.csv\").open_channels.values"
   ]
  },
  {
   "cell_type": "code",
   "execution_count": 6,
   "metadata": {},
   "outputs": [],
   "source": [
    "blend_oof = (wavenet_cycle_oof + wavenet_oof)/2\n",
    "blend_test = (wavenet_cycle_test + wavenet_test)/2"
   ]
  },
  {
   "cell_type": "code",
   "execution_count": 8,
   "metadata": {},
   "outputs": [
    {
     "name": "stdout",
     "output_type": "stream",
     "text": [
      "Group 0 0.6649395401206551\n",
      "Group 1 0.6498579544074379\n",
      "Group 2 0.9738374686128525\n",
      "Group 3 0.9970643428628481\n",
      "Group 4 0.7861794872341985 (0.8647974359576184)\n",
      "Total 0.9407656527899434\n"
     ]
    }
   ],
   "source": [
    "groups_f1(y_true, blend_oof.argmax(axis=1))"
   ]
  },
  {
   "cell_type": "code",
   "execution_count": 10,
   "metadata": {},
   "outputs": [
    {
     "name": "stdout",
     "output_type": "stream",
     "text": [
      "Group 0 0.6648954577448117\n",
      "Group 1 0.6498282485115017\n",
      "Group 2 0.9731941791223476\n",
      "Group 3 0.9970441134441017\n",
      "Group 4 0.7855970443669061 (0.8641567488035967)\n",
      "Total 0.9407024419353109\n"
     ]
    }
   ],
   "source": [
    "groups_f1(y_true, wavenet_oof.argmax(axis=1))"
   ]
  },
  {
   "cell_type": "code",
   "execution_count": 11,
   "metadata": {},
   "outputs": [
    {
     "name": "stdout",
     "output_type": "stream",
     "text": [
      "Group 0 0.6649688374706012\n",
      "Group 1 0.7797058500084983\n",
      "Group 2 0.973968609795083\n",
      "Group 3 0.9970297526564855\n",
      "Group 4 0.786024545657893 (0.8646270002236823)\n",
      "Total 0.9405739558163139\n"
     ]
    }
   ],
   "source": [
    "groups_f1(y_true, wavenet_cycle_oof.argmax(axis=1))"
   ]
  },
  {
   "cell_type": "code",
   "execution_count": 22,
   "metadata": {},
   "outputs": [],
   "source": [
    "def count_by_groups(y_true,y_pred, test_pred):\n",
    "    train_signal_group, test_df_signal_group = create_train_test_groups()\n",
    "    y = np.arange(11)\n",
    "    for i in range(5):\n",
    "        print(i)\n",
    "        print('y_true',list(np.bincount(y_true[train_signal_group == i], minlength=11)))\n",
    "        print('y_pred',list(np.bincount(y_pred[train_signal_group == i], minlength=11)))\n",
    "        print('test_p',list(np.bincount(test_pred[test_df_signal_group == i],minlength=11)))"
   ]
  },
  {
   "cell_type": "code",
   "execution_count": 20,
   "metadata": {},
   "outputs": [
    {
     "data": {
      "text/plain": [
       "(array([ 0,  1,  2,  3,  4,  5,  6,  7,  8,  9, 10]),\n",
       " array([1220640,  216543,  117569,  135162,   80426,   55936,   37219,\n",
       "          52884,   49413,   27100,    7108]))"
      ]
     },
     "execution_count": 20,
     "metadata": {},
     "output_type": "execute_result"
    }
   ],
   "source": [
    "np.unique(wavenet_test.argmax(axis=1), return_counts=True)"
   ]
  },
  {
   "cell_type": "code",
   "execution_count": 19,
   "metadata": {},
   "outputs": [
    {
     "data": {
      "text/plain": [
       "(array([ 0,  1,  2,  3,  4,  5,  6,  7,  8,  9, 10]),\n",
       " array([1220720,  216452,  117509,  135208,   80473,   56095,   37186,\n",
       "          52893,   49409,   26982,    7073]))"
      ]
     },
     "execution_count": 19,
     "metadata": {},
     "output_type": "execute_result"
    }
   ],
   "source": [
    "np.unique(wavenet_cycle_test.argmax(axis=1), return_counts=True)"
   ]
  },
  {
   "cell_type": "code",
   "execution_count": 17,
   "metadata": {},
   "outputs": [
    {
     "data": {
      "text/plain": [
       "(array([False,  True]), array([  21076, 4978924]))"
      ]
     },
     "execution_count": 17,
     "metadata": {},
     "output_type": "execute_result"
    }
   ],
   "source": [
    "np.unique((wavenet_oof.argmax(axis=1) == wavenet_cycle_oof.argmax(axis=1)), return_counts=True)"
   ]
  },
  {
   "cell_type": "code",
   "execution_count": 12,
   "metadata": {},
   "outputs": [],
   "source": [
    "# save_submission(blend_test, 'wavenet_and_wavenet_cyclelr')"
   ]
  },
  {
   "cell_type": "code",
   "execution_count": 13,
   "metadata": {},
   "outputs": [
    {
     "name": "stdout",
     "output_type": "stream",
     "text": [
      "100%|██████████████████████████████████████| 21.0M/21.0M [00:04<00:00, 4.43MB/s]\n",
      "Successfully submitted to University of Liverpool - Ion Switching"
     ]
    }
   ],
   "source": [
    "# !kaggle competitions submit -c liverpool-ion-switching -f wavenet_and_wavenet_cyclelr.csv -m \"wavenet_and_wavenet_cyclelr\""
   ]
  },
  {
   "cell_type": "code",
   "execution_count": 5,
   "metadata": {},
   "outputs": [
    {
     "name": "stdout",
     "output_type": "stream",
     "text": [
      "(1000000, 10) (200000, 10)\n",
      "(1000000, 11) (200000, 11)\n"
     ]
    }
   ],
   "source": [
    "g4_oof_preds = np.load('oof_wavenet_probs.npy')\n",
    "g4_test_preds = np.load('test_wavenet_probs.npy')\n",
    "\n",
    "print(g4_oof_preds.shape, g4_test_preds.shape)\n",
    "\n",
    "g4_oof_preds = np.concatenate(\n",
    "    [np.zeros((len(g4_oof_preds),1)), g4_oof_preds], axis=1)\n",
    "g4_test_preds = np.concatenate(\n",
    "    [np.zeros((len(g4_test_preds),1)), g4_test_preds], axis=1)\n",
    "\n",
    "print(g4_oof_preds.shape, g4_test_preds.shape)"
   ]
  },
  {
   "cell_type": "code",
   "execution_count": 6,
   "metadata": {},
   "outputs": [],
   "source": [
    "oof_pred_mixed = oof_preds.copy()\n",
    "test_pred_mixed = test_preds.copy()\n",
    "\n",
    "\n",
    "oof_pred_mixed[2000000:2500000] = g4_oof_preds[:500000]\n",
    "oof_pred_mixed[4500000:5000000] = g4_oof_preds[500000:]\n",
    "\n",
    "\n",
    "test_pred_mixed[500000:600000] = g4_test_preds[:100000]\n",
    "test_pred_mixed[700000:800000] = g4_test_preds[100000:]"
   ]
  },
  {
   "cell_type": "code",
   "execution_count": 7,
   "metadata": {},
   "outputs": [],
   "source": []
  },
  {
   "cell_type": "code",
   "execution_count": 7,
   "metadata": {},
   "outputs": [],
   "source": [
    "def groups_f1(y_true, y_pred):\n",
    "    train_signal_group, test_df_signal_group = create_train_test_groups()\n",
    "    \n",
    "    for i in range(5):\n",
    "        f1 = f1_score(y_true[train_signal_group==i], y_pred[train_signal_group==i], average='macro')\n",
    "        \n",
    "        if i == 4:\n",
    "            f1_ = f1_score(y_true[train_signal_group==i],y_pred[train_signal_group==i], average='macro', labels=np.arange(1, 11))\n",
    "            print(f'Group {i} {f1} ({f1_})')\n",
    "        else:\n",
    "            print(f'Group {i} {f1}')\n",
    "            \n",
    "    print('Total', f1_score(y_true, y_pred, average='macro'))"
   ]
  },
  {
   "cell_type": "code",
   "execution_count": 12,
   "metadata": {},
   "outputs": [
    {
     "name": "stdout",
     "output_type": "stream",
     "text": [
      "Group 0, 0.6648954577448117\n",
      "Group 1, 0.6498282485115017\n",
      "Group 2, 0.9731941791223476\n",
      "Group 3, 0.9970441134441017\n",
      "Group 4, 0.7855970443669061, (0.8641567488035967)\n",
      "Total 0.9407024419353109\n"
     ]
    }
   ],
   "source": [
    "#Best model\n",
    "groups_f1(y_true, oof_preds.argmax(axis=1))"
   ]
  },
  {
   "cell_type": "code",
   "execution_count": 13,
   "metadata": {},
   "outputs": [
    {
     "name": "stdout",
     "output_type": "stream",
     "text": [
      "Group 0, 0.49104130912318633\n",
      "Group 1, 0.011829351162627217\n",
      "Group 2, 0.0006397697228230114\n",
      "Group 3, 0.19948703128965042\n",
      "Group 4, 3.6363563636509083e-07, (0.0)\n",
      "Total 0.03613408484571879\n"
     ]
    }
   ],
   "source": [
    "groups_f1(y_true, np.full(5000000, 0))"
   ]
  },
  {
   "cell_type": "code",
   "execution_count": null,
   "metadata": {},
   "outputs": [],
   "source": []
  },
  {
   "cell_type": "code",
   "execution_count": 68,
   "metadata": {},
   "outputs": [
    {
     "data": {
      "text/plain": [
       "0.9407024419353109"
      ]
     },
     "execution_count": 68,
     "metadata": {},
     "output_type": "execute_result"
    }
   ],
   "source": [
    "f1_score(y_true, oof_preds.argmax(axis=1), average='macro')"
   ]
  },
  {
   "cell_type": "code",
   "execution_count": 45,
   "metadata": {},
   "outputs": [
    {
     "name": "stdout",
     "output_type": "stream",
     "text": [
      "Only 10 chanels oof on group 4\n"
     ]
    },
    {
     "data": {
      "text/plain": [
       "0.8533231100602989"
      ]
     },
     "execution_count": 45,
     "metadata": {},
     "output_type": "execute_result"
    }
   ],
   "source": [
    "print('Only 10 chanels oof on group 4')\n",
    "\n",
    "f1_score(y_true[train_signal_group==4], \n",
    "         g4_oof_preds.argmax(axis=1), average='macro', labels=np.arange(1, 11))"
   ]
  },
  {
   "cell_type": "code",
   "execution_count": 47,
   "metadata": {},
   "outputs": [
    {
     "name": "stdout",
     "output_type": "stream",
     "text": [
      "Only 10 chanels oof on group 4\n"
     ]
    },
    {
     "data": {
      "text/plain": [
       "0.8543389830761721"
      ]
     },
     "execution_count": 47,
     "metadata": {},
     "output_type": "execute_result"
    }
   ],
   "source": [
    "print('Only 10 chanels oof on group 4')\n",
    "a = y_true[train_signal_group==4]\n",
    "a[a==0]=1\n",
    "f1_score(a, \n",
    "         g4_oof_preds.argmax(axis=1), average='macro', labels=np.arange(1, 11))"
   ]
  },
  {
   "cell_type": "code",
   "execution_count": null,
   "metadata": {},
   "outputs": [],
   "source": [
    "!kaggle competitions submit -c liverpool-ion-switching -f blend_new_wavenets.csv -m \"np.mean([new_wavenet_and_feats, new_wavenet], axis=0)\""
   ]
  },
  {
   "cell_type": "code",
   "execution_count": 21,
   "metadata": {},
   "outputs": [
    {
     "ename": "NameError",
     "evalue": "name 'oof_preds' is not defined",
     "output_type": "error",
     "traceback": [
      "\u001b[0;31m---------------------------------------------------------------------------\u001b[0m",
      "\u001b[0;31mNameError\u001b[0m                                 Traceback (most recent call last)",
      "\u001b[0;32m<ipython-input-21-eb8a21714205>\u001b[0m in \u001b[0;36m<module>\u001b[0;34m\u001b[0m\n\u001b[1;32m      9\u001b[0m \u001b[0;34m\u001b[0m\u001b[0m\n\u001b[1;32m     10\u001b[0m \u001b[0;34m\u001b[0m\u001b[0m\n\u001b[0;32m---> 11\u001b[0;31m \u001b[0mcount_by_groups\u001b[0m\u001b[0;34m(\u001b[0m\u001b[0my_true\u001b[0m\u001b[0;34m,\u001b[0m\u001b[0moof_preds\u001b[0m\u001b[0;34m.\u001b[0m\u001b[0margmax\u001b[0m\u001b[0;34m(\u001b[0m\u001b[0maxis\u001b[0m\u001b[0;34m=\u001b[0m\u001b[0;36m1\u001b[0m\u001b[0;34m)\u001b[0m\u001b[0;34m,\u001b[0m \u001b[0mtest_preds\u001b[0m\u001b[0;34m.\u001b[0m\u001b[0margmax\u001b[0m\u001b[0;34m(\u001b[0m\u001b[0maxis\u001b[0m\u001b[0;34m=\u001b[0m\u001b[0;36m1\u001b[0m\u001b[0;34m)\u001b[0m\u001b[0;34m)\u001b[0m\u001b[0;34m\u001b[0m\u001b[0;34m\u001b[0m\u001b[0m\n\u001b[0m",
      "\u001b[0;31mNameError\u001b[0m: name 'oof_preds' is not defined"
     ]
    }
   ],
   "source": [
    "def count_by_groups(y_true,y_pred, test_pred):\n",
    "    train_signal_group, test_df_signal_group = create_train_test_groups()\n",
    "    y = np.arange(11)\n",
    "    for i in range(5):\n",
    "        print(i)\n",
    "        print('y_true',list(np.bincount(y_true[train_signal_group == i], minlength=11)))\n",
    "        print('y_pred',list(np.bincount(y_pred[train_signal_group == i], minlength=11)))\n",
    "        print('test_p',list(np.bincount(test_pred[test_df_signal_group == i],minlength=11)))\n",
    "    \n",
    "    \n",
    "count_by_groups(y_true,oof_preds.argmax(axis=1), test_preds.argmax(axis=1))"
   ]
  },
  {
   "cell_type": "code",
   "execution_count": 32,
   "metadata": {},
   "outputs": [
    {
     "data": {
      "text/plain": [
       "array([ 0,  1,  3,  2, 10,  9,  8,  7,  6,  5,  4])"
      ]
     },
     "execution_count": 32,
     "metadata": {},
     "output_type": "execute_result"
    }
   ],
   "source": [
    "pd.read_csv(\"../input/liverpool-ion-switching/train.csv\").open_channels.unique()"
   ]
  }
 ],
 "metadata": {
  "kernelspec": {
   "display_name": "Python 3",
   "language": "python",
   "name": "python3"
  },
  "language_info": {
   "codemirror_mode": {
    "name": "ipython",
    "version": 3
   },
   "file_extension": ".py",
   "mimetype": "text/x-python",
   "name": "python",
   "nbconvert_exporter": "python",
   "pygments_lexer": "ipython3",
   "version": "3.7.6"
  }
 },
 "nbformat": 4,
 "nbformat_minor": 4
}
